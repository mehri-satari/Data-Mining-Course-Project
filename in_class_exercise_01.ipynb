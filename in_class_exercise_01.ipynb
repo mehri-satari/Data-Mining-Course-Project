{
  "nbformat": 4,
  "nbformat_minor": 0,
  "metadata": {
    "colab": {
      "provenance": [],
      "authorship_tag": "ABX9TyNwNFfidEwJ7LitWCja4lNk",
      "include_colab_link": true
    },
    "kernelspec": {
      "name": "python3",
      "display_name": "Python 3"
    },
    "language_info": {
      "name": "python"
    }
  },
  "cells": [
    {
      "cell_type": "markdown",
      "metadata": {
        "id": "view-in-github",
        "colab_type": "text"
      },
      "source": [
        "<a href=\"https://colab.research.google.com/github/mehri-satari/Data-Mining-Course-Project/blob/main/in_class_exercise_01.ipynb\" target=\"_parent\"><img src=\"https://colab.research.google.com/assets/colab-badge.svg\" alt=\"Open In Colab\"/></a>"
      ]
    },
    {
      "cell_type": "code",
      "execution_count": null,
      "metadata": {
        "id": "lIlJGPssD16H"
      },
      "outputs": [],
      "source": [
        "# ============================================================\n",
        "# DEMO: Python Basics - Chapter 2 (Variables, Types, Operators, Input, Conditions, Strings)\n",
        "# ============================================================\n",
        "\n",
        "# ------------------------------------------------------------\n",
        "# 1. Variables & Data Types\n",
        "# ------------------------------------------------------------\n",
        "# Variables are used to store data. Python automatically detects the type.\n",
        "\n",
        "name = \"Mehri\"       # str: A string of characters\n",
        "age = 28             # int: An integer number\n",
        "height = 1.65        # float: A decimal number\n",
        "is_student = True    # bool: Boolean value (True/False)\n",
        "\n",
        "print(\"Name:\", name)\n",
        "print(\"Age:\", age)\n",
        "print(\"Height:\", height)\n",
        "print(\"Student:\", is_student)\n",
        "print(\"Type of height:\", type(height))  # Shows data type\n",
        "\n",
        "\n",
        "# ------------------------------------------------------------\n",
        "# 2. Taking User Input\n",
        "# ------------------------------------------------------------\n",
        "# input() always returns a string, so we must convert it when needed.\n",
        "\n",
        "num1 = input(\"Enter a number: \")   # Default type: str\n",
        "print(\"You entered:\", num1)\n",
        "\n",
        "num2 = int(input(\"Enter an integer: \"))   # Convert input to int\n",
        "num3 = float(input(\"Enter a decimal: \"))  # Convert input to float\n",
        "\n",
        "print(\"Sum of numbers:\", num2 + num3)\n",
        "\n",
        "\n",
        "# ------------------------------------------------------------\n",
        "# 3. Arithmetic Operators\n",
        "# ------------------------------------------------------------\n",
        "# Basic math operations\n",
        "\n",
        "a, b = 7, 3\n",
        "print(\"Addition:\", a + b)\n",
        "print(\"Subtraction:\", a - b)\n",
        "print(\"Multiplication:\", a * b)\n",
        "print(\"Division:\", a / b)       # Always float\n",
        "print(\"Floor Division:\", a // b)\n",
        "print(\"Remainder:\", a % b)\n",
        "print(\"Power:\", a ** b)\n",
        "\n",
        "\n",
        "# ------------------------------------------------------------\n",
        "# 4. Comparison & Logical Operators\n",
        "# ------------------------------------------------------------\n",
        "# Used for comparing values and combining conditions\n",
        "\n",
        "x, y = 10, 5\n",
        "print(\"x == y:\", x == y)\n",
        "print(\"x != y:\", x != y)\n",
        "print(\"x > y:\", x > y)\n",
        "print(\"x < y:\", x < y)\n",
        "\n",
        "# Logical operators: and, or, not\n",
        "print(\"x > 5 and y < 10:\", x > 5 and y < 10)\n",
        "print(\"x > 15 or y < 10:\", x > 15 or y < 10)\n",
        "print(\"not x == y:\", not x == y)\n",
        "\n",
        "\n",
        "# ------------------------------------------------------------\n",
        "# 5. Conditional Statements\n",
        "# ------------------------------------------------------------\n",
        "# Decide which block of code runs based on conditions.\n",
        "\n",
        "score = int(input(\"Enter your exam score: \"))\n",
        "\n",
        "if score >= 90:\n",
        "    print(\"Excellent! Grade: A\")\n",
        "elif score >= 75:\n",
        "    print(\"Good job! Grade: B\")\n",
        "elif score >= 60:\n",
        "    print(\"You passed. Grade: C\")\n",
        "else:\n",
        "    print(\"You failed. Grade: F\")\n",
        "\n",
        "\n",
        "# ------------------------------------------------------------\n",
        "# 6. Type Casting\n",
        "# ------------------------------------------------------------\n",
        "# Convert between int, float, and string.\n",
        "\n",
        "x = 5\n",
        "y = 2.8\n",
        "\n",
        "print(\"Integer to float:\", float(x))\n",
        "print(\"Float to integer:\", int(y))\n",
        "print(\"Number to string:\", str(x))\n",
        "\n",
        "\n",
        "# ------------------------------------------------------------\n",
        "# 7. Working with Strings\n",
        "# ------------------------------------------------------------\n",
        "# Strings are sequences of characters.\n",
        "\n",
        "first_name = \"Mehri\"\n",
        "last_name = \"Sattari\"\n",
        "\n",
        "# Concatenation\n",
        "full_name = first_name + \" \" + last_name\n",
        "print(\"Full Name:\", full_name)\n",
        "\n",
        "# Repetition\n",
        "print(\"Hello! \" * 3)\n",
        "\n",
        "# f-strings for formatting\n",
        "age = 28\n",
        "print(f\"My name is {first_name} and I am {age} years old.\")\n",
        "\n",
        "# String methods\n",
        "message = \"   python is Fun!   \"\n",
        "print(\"Lowercase:\", message.lower())\n",
        "print(\"Uppercase:\", message.upper())\n",
        "print(\"Remove spaces:\", message.strip())\n",
        "print(\"Replace word:\", message.replace(\"Fun\", \"Powerful\"))\n"
      ]
    },
    {
      "cell_type": "code",
      "source": [
        "name = \"Mehri\"\n",
        "print(name)\n"
      ],
      "metadata": {
        "colab": {
          "base_uri": "https://localhost:8080/"
        },
        "id": "kfPMRZiJg-as",
        "outputId": "e2218cd3-57bf-4592-b9ac-6e79cf2b9e23"
      },
      "execution_count": 1,
      "outputs": [
        {
          "output_type": "stream",
          "name": "stdout",
          "text": [
            "Mehri\n"
          ]
        }
      ]
    }
  ]
}