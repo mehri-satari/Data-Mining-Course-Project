{
 "cells": [
  {
   "cell_type": "code",
   "execution_count": 272,
   "metadata": {},
   "outputs": [],
   "source": [
    "import numpy as np\n",
    "import matplotlib.pyplot as plt\n",
    "import pandas as pd\n",
    "from sklearn.preprocessing import LabelEncoder\n",
    "from sklearn import metrics\n",
    "from sklearn import metrics\n",
    "from sklearn.metrics import accuracy_score,precision_score,recall_score,confusion_matrix,roc_auc_score, f1_score\n",
    "from sklearn.ensemble import RandomForestClassifier,AdaBoostClassifier,BaggingClassifier\n",
    "from sklearn import svm\n",
    "from sklearn.metrics import confusion_matrix\n",
    "from sklearn.model_selection import GridSearchCV\n",
    "from sklearn.model_selection import train_test_split\n",
    "from sklearn.model_selection import GridSearchCV\n",
    "from sklearn.preprocessing import MinMaxScaler\n",
    "from sklearn.impute import SimpleImputer\n",
    "import seaborn as sns\n",
    "from scipy import stats\n",
    "from sklearn.linear_model import LogisticRegression\n",
    "from sklearn.metrics import confusion_matrix, classification_report\n",
    "from sklearn.tree import DecisionTreeClassifier\n",
    "from sklearn.preprocessing import StandardScaler\n",
    "from sklearn.ensemble import VotingClassifier\n",
    "from sklearn.neighbors import KNeighborsClassifier\n",
    "from sklearn import model_selection\n",
    "from sklearn.ensemble import BaggingClassifier\n",
    "from sklearn.ensemble import RandomForestClassifier\n",
    "from sklearn.preprocessing import StandardScaler\n",
    "import statistics\n",
    "import matplotlib.pyplot as plt\n",
    "from sklearn.tree import plot_tree\n",
    "from sklearn.svm import SVC\n",
    "from sklearn.feature_selection import RFE\n",
    "from sklearn.linear_model import LogisticRegression\n",
    "from sklearn.feature_selection import SelectKBest\n",
    "from sklearn.feature_selection import chi2\n",
    "from sklearn.cluster import KMeans"
   ]
  },
  {
   "cell_type": "code",
   "execution_count": 309,
   "metadata": {},
   "outputs": [],
   "source": [
    "data=pd.read_csv('heart.csv')\n"
   ]
  },
  {
   "cell_type": "code",
   "execution_count": 310,
   "metadata": {},
   "outputs": [
    {
     "name": "stdout",
     "output_type": "stream",
     "text": [
      "number of missing values:  185\n"
     ]
    }
   ],
   "source": [
    "#number of missing values\n",
    "print('number of missing values: ',pd.isnull(data).sum().sum())"
   ]
  },
  {
   "cell_type": "code",
   "execution_count": 305,
   "metadata": {},
   "outputs": [
    {
     "name": "stdout",
     "output_type": "stream",
     "text": [
      "age         float64\n",
      "sex         float64\n",
      "cp          float64\n",
      "trestbps    float64\n",
      "chol        float64\n",
      "fbs         float64\n",
      "restecg     float64\n",
      "thalach     float64\n",
      "exang       float64\n",
      "oldpeak     float64\n",
      "slope       float64\n",
      "ca          float64\n",
      "thal        float64\n",
      "target        int64\n",
      "dtype: object\n"
     ]
    }
   ],
   "source": [
    "print(data.dtypes)"
   ]
  },
  {
   "cell_type": "markdown",
   "metadata": {},
   "source": [
    "**Imputation with 2 approach**"
   ]
  },
  {
   "cell_type": "code",
   "execution_count": 315,
   "metadata": {},
   "outputs": [
    {
     "name": "stdout",
     "output_type": "stream",
     "text": [
      "number of missing values:  0\n"
     ]
    }
   ],
   "source": [
    "# *approach 1*: filling categorical features with mode and numerical features with median\n",
    "# create a copy of dataset to use it later for another approach of imputation\n",
    "data_c=data\n",
    "#filling categorical features with mode\n",
    "data['sex']=data['sex'].fillna(statistics.mode(data['sex'].mode()))\n",
    "data['cp']=data['cp'].fillna(statistics.mode(data['cp'].mode()))\n",
    "data['fbs']=data['fbs'].fillna(statistics.mode(data['fbs'].mode()))\n",
    "data['restecg']=data['restecg'].fillna(statistics.mode(data['restecg'].mode()))\n",
    "data['exang']=data['exang'].fillna(statistics.mode(data['exang'].mode()))\n",
    "data['slope']=data['slope'].fillna(statistics.mode(data['slope'].mode()))\n",
    "data['ca']=data['ca'].fillna(statistics.mode(data['ca'].mode()))\n",
    "data['thal']=data['thal'].fillna(statistics.mode(data['thal'].mode()))\n",
    "# filling numerical features with median\n",
    "data['age']=data['age'].fillna(data['age'].median())\n",
    "data['trestbps']=data['trestbps'].fillna(data['trestbps'].median())\n",
    "data['chol']=data['chol'].fillna(data['chol'].median())\n",
    "data['thalach']=data['thalach'].fillna(data['thalach'].median())\n",
    "data['oldpeak']=data['oldpeak'].fillna(data['oldpeak'].median())\n",
    "print('number of missing values: ',pd.isnull(data).sum().sum())\n",
    "data_co=data\n",
    "# Scale numerical features\n",
    "scaler= MinMaxScaler()\n",
    "scaled_features=scaler.fit_transform(data.drop(['target','sex','cp','fbs','restecg','exang','slope','ca','thal'],axis=1))\n",
    "#scaled_features = scaler.transform(data.drop(['target','sex','cp','fbs','restecg','exang','slope','ca','thal'],axis=1))\n",
    "scaled_features=pd.DataFrame(scaled_features,columns=['age','trestbps','chol','thalach','oldpeak'])\n",
    "data.age=scaled_features['age']\n",
    "data.trestbps=scaled_features['trestbps']\n",
    "data.chol=scaled_features['chol']\n",
    "data.thalach=scaled_features['thalach']\n",
    "data.oldpeak=scaled_features['oldpeak']\n",
    "data_co=data\n",
    "#Split dataset into training set and test set\n",
    "X_train_1, X_test_1, y_train_1, y_test_1 = train_test_split(data.drop(['target'],axis=1),data['target'],test_size=0.30) # 70% training and 30% test\n"
   ]
  },
  {
   "cell_type": "code",
   "execution_count": 312,
   "metadata": {},
   "outputs": [
    {
     "name": "stdout",
     "output_type": "stream",
     "text": [
      "number of missing values:  0\n"
     ]
    }
   ],
   "source": [
    "# Approach 2: filling numerical features with mean and categoricals with mode\n",
    "# filling categorical features with mode\n",
    "data=data_c\n",
    "data['sex']=data['sex'].fillna(statistics.mode(data['sex'].mode()))\n",
    "data['cp']=data['cp'].fillna(statistics.mode(data['cp'].mode()))\n",
    "data['fbs']=data['fbs'].fillna(statistics.mode(data['fbs'].mode()))\n",
    "data['restecg']=data['restecg'].fillna(statistics.mode(data['restecg'].mode()))\n",
    "data['exang']=data['exang'].fillna(statistics.mode(data['exang'].mode()))\n",
    "data['slope']=data['slope'].fillna(statistics.mode(data['slope'].mode()))\n",
    "data['ca']=data['ca'].fillna(statistics.mode(data['ca'].mode()))\n",
    "data['thal']=data['thal'].fillna(statistics.mode(data['thal'].mode()))\n",
    "# filling numerical features with mean\n",
    "data['age']=data['age'].fillna(data['age'].mean())\n",
    "data['trestbps']=data['trestbps'].fillna(data['trestbps'].mean())\n",
    "data['chol']=data['chol'].fillna(data['chol'].mean())\n",
    "data['thalach']=data['thalach'].fillna(data['thalach'].mean())\n",
    "data['oldpeak']=data['oldpeak'].fillna(data['oldpeak'].mean())\n",
    "print('number of missing values: ',pd.isnull(data).sum().sum())\n",
    "# Scale numerical features\n",
    "scaler= MinMaxScaler()\n",
    "scaled_features=scaler.fit_transform(data.drop(['target','sex','cp','fbs','restecg','exang','slope','ca','thal'],axis=1))\n",
    "#scaled_features = scaler.transform(data.drop(['target','sex','cp','fbs','restecg','exang','slope','ca','thal'],axis=1))\n",
    "scaled_features=pd.DataFrame(scaled_features,columns=['age','trestbps','chol','thalach','oldpeak'])\n",
    "\n",
    "\n",
    "data.age=scaled_features['age']\n",
    "data.trestbps=scaled_features['trestbps']\n",
    "data.chol=scaled_features['chol']\n",
    "data.thalach=scaled_features['thalach']\n",
    "data.oldpeak=scaled_features['oldpeak']\n",
    "\n",
    "#Split dataset into training set and test set\n",
    "X_train_2, X_test_2, y_train_2, y_test_2 = train_test_split(data.drop('target',axis=1),data['target'],test_size=0.3) # 70% training and 30% test "
   ]
  },
  {
   "cell_type": "markdown",
   "metadata": {},
   "source": [
    "**evaluation step**"
   ]
  },
  {
   "cell_type": "code",
   "execution_count": 313,
   "metadata": {},
   "outputs": [
    {
     "name": "stdout",
     "output_type": "stream",
     "text": [
      "when imputation of numerical features is median and categoricals is mode (approach1)\n",
      " Accuracy is : 0.8571428571428571\n",
      "when imputation of numerical features is mean and categoricals is mode (approach2)\n",
      " Accuracy is : 0.8021978021978022\n"
     ]
    }
   ],
   "source": [
    "#evaluation of types of imputation - the method which is applied for evaluation of both imputation approaches is DecisionTree\n",
    "# Create DecisionTree classifier function for evaluation\n",
    "def dt(X_train,y_train):\n",
    "    \n",
    "    model= DecisionTreeClassifier(criterion='entropy', max_depth=3 ,min_samples_split=3)\n",
    "    # Train Decision Tree Classifier\n",
    "    dt = model.fit(X_train,y_train)\n",
    "    y_predict_test = dt.predict(X_test)\n",
    "    acc = accuracy_score(y_test, y_predict_test)\n",
    "    return print(\" Accuracy is :\", acc)\n",
    "print(\"when imputation of numerical features is median and categoricals is mode (approach1)\")\n",
    "dt(X_train_1,y_train_1)\n",
    "\n",
    "print(\"when imputation of numerical features is mean and categoricals is mode (approach2)\")\n",
    "# evaluation\n",
    "dt(X_train_2,y_train_2)\n",
    "# after some repeatation and calcuation of expected accuracy of each approach we undertand approach 1 is better, therefore:\n",
    "X_tarin,X_test,y_train,y_test =X_train_1, X_test_1, y_train_1, y_test_1"
   ]
  },
  {
   "cell_type": "markdown",
   "metadata": {},
   "source": [
    "**finding outliers**\n"
   ]
  },
  {
   "cell_type": "code",
   "execution_count": 54,
   "metadata": {},
   "outputs": [
    {
     "name": "stdout",
     "output_type": "stream",
     "text": [
      "age         0.229167\n",
      "sex         1.000000\n",
      "cp          2.000000\n",
      "trestbps    0.188679\n",
      "chol        0.125571\n",
      "fbs         0.000000\n",
      "restecg     1.000000\n",
      "thalach     0.225806\n",
      "exang       1.000000\n",
      "oldpeak     0.258065\n",
      "slope       1.000000\n",
      "ca          1.000000\n",
      "thal        1.000000\n",
      "target      1.000000\n",
      "dtype: float64\n"
     ]
    }
   ],
   "source": [
    "Q1 = data.quantile(0.25)\n",
    "Q3 = data.quantile(0.75)\n",
    "IQR = Q3 - Q1\n",
    "print(IQR)"
   ]
  },
  {
   "cell_type": "code",
   "execution_count": 149,
   "metadata": {},
   "outputs": [
    {
     "name": "stdout",
     "output_type": "stream",
     "text": [
      "Old Shape:  (303, 14)\n",
      "New Shape:  (291, 14)\n"
     ]
    }
   ],
   "source": [
    "Q1 = np.percentile(data['trestbps'], 25,  \n",
    "                   interpolation = 'midpoint')  \n",
    "  \n",
    "Q3 = np.percentile(data['trestbps'], 75, \n",
    "                   interpolation = 'midpoint')  \n",
    "IQR = Q3 - Q1  \n",
    "  \n",
    "print(\"Old Shape: \", data.shape)  \n",
    "  \n",
    "# Upper bound \n",
    "upper = np.where(data['trestbps'] >= (Q3+1.5*IQR)) \n",
    "# Lower bound \n",
    "lower = np.where(data['trestbps'] <= (Q1-1.5*IQR)) \n",
    "  \n",
    "''' Removing the Outliers '''\n",
    "data.drop(upper[0], inplace = True) \n",
    "data.drop(lower[0], inplace = True) \n",
    "  \n",
    "print(\"New Shape: \", data.shape)"
   ]
  },
  {
   "cell_type": "code",
   "execution_count": 150,
   "metadata": {},
   "outputs": [
    {
     "name": "stdout",
     "output_type": "stream",
     "text": [
      "Old Shape:  (291, 14)\n",
      "New Shape:  (290, 14)\n"
     ]
    }
   ],
   "source": [
    "Q1 = np.percentile(data['age'], 25,  \n",
    "                   interpolation = 'midpoint')  \n",
    "  \n",
    "Q3 = np.percentile(data['age'], 75, \n",
    "                   interpolation = 'midpoint')  \n",
    "IQR = Q3 - Q1  \n",
    "  \n",
    "print(\"Old Shape: \", data.shape)  \n",
    "  \n",
    "# Upper bound \n",
    "upper = np.where(data['age'] >= (Q3+1.5*IQR)) \n",
    "# Lower bound \n",
    "lower = np.where(data['age'] <= (Q1-1.5*IQR)) \n",
    "  \n",
    "''' Removing the Outliers '''\n",
    "data.drop(upper[0], inplace = True) \n",
    "data.drop(lower[0], inplace = True) \n",
    "  \n",
    "print(\"New Shape: \", data.shape)  "
   ]
  },
  {
   "cell_type": "code",
   "execution_count": 151,
   "metadata": {},
   "outputs": [
    {
     "name": "stdout",
     "output_type": "stream",
     "text": [
      "Old Shape:  (290, 14)\n",
      "New Shape:  (283, 14)\n"
     ]
    }
   ],
   "source": [
    "Q1 = np.percentile(data['chol'], 25,  \n",
    "                   interpolation = 'midpoint')  \n",
    "  \n",
    "Q3 = np.percentile(data['chol'], 75, \n",
    "                   interpolation = 'midpoint')  \n",
    "IQR = Q3 - Q1  \n",
    "  \n",
    "print(\"Old Shape: \", data.shape)  \n",
    "  \n",
    "# Upper bound \n",
    "upper = np.where(data['chol'] >= (Q3+1.5*IQR)) \n",
    "# Lower bound \n",
    "lower = np.where(data['chol'] <= (Q1-1.5*IQR)) \n",
    "  \n",
    "''' Removing the Outliers '''\n",
    "data.drop(upper[0], inplace = True) \n",
    "data.drop(lower[0], inplace = True) \n",
    "  \n",
    "print(\"New Shape: \", data.shape)  "
   ]
  },
  {
   "cell_type": "code",
   "execution_count": 152,
   "metadata": {},
   "outputs": [
    {
     "name": "stdout",
     "output_type": "stream",
     "text": [
      "Old Shape:  (283, 14)\n",
      "New Shape:  (282, 14)\n"
     ]
    }
   ],
   "source": [
    "Q1 = np.percentile(data['thalach'], 25,  \n",
    "                   interpolation = 'midpoint')  \n",
    "  \n",
    "Q3 = np.percentile(data['thalach'], 75, \n",
    "                   interpolation = 'midpoint')  \n",
    "IQR = Q3 - Q1  \n",
    "  \n",
    "print(\"Old Shape: \", data.shape)  \n",
    "  \n",
    "# Upper bound \n",
    "upper = np.where(data['thalach'] >= (Q3+1.5*IQR)) \n",
    "# Lower bound \n",
    "lower = np.where(data['thalach'] <= (Q1-1.5*IQR)) \n",
    "  \n",
    "''' Removing the Outliers '''\n",
    "data.drop(upper[0], inplace = True) \n",
    "data.drop(lower[0], inplace = True) \n",
    "  \n",
    "print(\"New Shape: \", data.shape) "
   ]
  },
  {
   "cell_type": "code",
   "execution_count": 153,
   "metadata": {},
   "outputs": [
    {
     "name": "stdout",
     "output_type": "stream",
     "text": [
      "Old Shape:  (282, 14)\n",
      "New Shape:  (277, 14)\n"
     ]
    }
   ],
   "source": [
    "Q1 = np.percentile(data['oldpeak'], 25,  \n",
    "                   interpolation = 'midpoint')  \n",
    "  \n",
    "Q3 = np.percentile(data['oldpeak'], 75, \n",
    "                   interpolation = 'midpoint')  \n",
    "IQR = Q3 - Q1  \n",
    "  \n",
    "print(\"Old Shape: \", data.shape)  \n",
    "  \n",
    "# Upper bound \n",
    "upper = np.where(data['oldpeak'] >= (Q3+1.5*IQR)) \n",
    "# Lower bound \n",
    "lower = np.where(data['oldpeak'] <= (Q1-1.5*IQR)) \n",
    "  \n",
    "''' Removing the Outliers '''\n",
    "data.drop(upper[0], inplace = True) \n",
    "data.drop(lower[0], inplace = True) \n",
    "  \n",
    "print(\"New Shape: \", data.shape) "
   ]
  },
  {
   "cell_type": "markdown",
   "metadata": {},
   "source": [
    "**Decision Tree Classifier**"
   ]
  },
  {
   "cell_type": "code",
   "execution_count": 317,
   "metadata": {},
   "outputs": [
    {
     "name": "stdout",
     "output_type": "stream",
     "text": [
      " Accuracy is : 0.8241758241758241\n",
      "-------------------------------------------\n",
      "confusion Matrix :\n",
      "[[31 11]\n",
      " [ 5 44]]\n",
      "              precision    recall  f1-score   support\n",
      "\n",
      "           0       0.86      0.74      0.79        42\n",
      "           1       0.80      0.90      0.85        49\n",
      "\n",
      "    accuracy                           0.82        91\n",
      "   macro avg       0.83      0.82      0.82        91\n",
      "weighted avg       0.83      0.82      0.82        91\n",
      "\n"
     ]
    },
    {
     "data": {
      "text/plain": [
       "array([0.        , 0.        , 0.40056235, 0.        , 0.        ,\n",
       "       0.        , 0.06423962, 0.0611072 , 0.09321295, 0.11286807,\n",
       "       0.04996175, 0.21804805, 0.        ])"
      ]
     },
     "execution_count": 317,
     "metadata": {},
     "output_type": "execute_result"
    }
   ],
   "source": [
    "# Create Decision Tree classifer object\n",
    "#since DecisionTree doesnt need doesnt need normalization we use unnormalized dataset:\n",
    "X_train_dt, X_test_dt, y_train_dt, y_test_dt = train_test_split(data_co.drop(['target'],axis=1),data_co['target'],test_size=0.30) # 70% training and 30% test\n",
    "model= DecisionTreeClassifier(criterion='entropy', max_depth=3 ,min_samples_split=3)\n",
    "\n",
    "# Train Decision Tree Classifer\n",
    "DT = model.fit(X_train_dt,y_train_dt)\n",
    "y_predict = DT.predict(X_test_dt)\n",
    "acc = accuracy_score(y_test_dt, y_predict)\n",
    "print(\" Accuracy is :\", acc)\n",
    "print('-------------------------------------------')\n",
    "print('confusion Matrix :')\n",
    "print(confusion_matrix(y_test_dt,y_predict))\n",
    "print(classification_report(y_test_dt,y_predict))\n",
    "DT.feature_importances_"
   ]
  },
  {
   "cell_type": "markdown",
   "metadata": {},
   "source": [
    "**Random Forest Classifier**"
   ]
  },
  {
   "cell_type": "code",
   "execution_count": 320,
   "metadata": {},
   "outputs": [
    {
     "name": "stdout",
     "output_type": "stream",
     "text": [
      "WITH n_estimators=1 (some random parameter value)\n",
      " Accuracy is : 0.8021978021978022\n",
      "[[32 10]\n",
      " [ 8 41]]\n",
      "              precision    recall  f1-score   support\n",
      "\n",
      "           0       0.80      0.76      0.78        42\n",
      "           1       0.80      0.84      0.82        49\n",
      "\n",
      "    accuracy                           0.80        91\n",
      "   macro avg       0.80      0.80      0.80        91\n",
      "weighted avg       0.80      0.80      0.80        91\n",
      "\n",
      "WITH n_estimators= 1\n",
      " Accuracy is : 0.4945054945054945\n",
      "[[21 21]\n",
      " [25 24]]\n",
      "              precision    recall  f1-score   support\n",
      "\n",
      "           0       0.46      0.50      0.48        42\n",
      "           1       0.53      0.49      0.51        49\n",
      "\n",
      "    accuracy                           0.49        91\n",
      "   macro avg       0.49      0.49      0.49        91\n",
      "weighted avg       0.50      0.49      0.50        91\n",
      "\n"
     ]
    },
    {
     "data": {
      "image/png": "[encoded data removed]",
      "text/plain": [
       "<Figure size 1008x432 with 1 Axes>"
      ]
     },
     "metadata": {
      "needs_background": "light"
     },
     "output_type": "display_data"
    }
   ],
   "source": [
    "rfc = RandomForestClassifier(n_estimators=1)\n",
    "rfc.fit(X_train_dt, y_train_dt)\n",
    "rfc_pred = rfc.predict(X_test_dt)\n",
    "\n",
    "print('WITH n_estimators=1 (some random parameter value)')\n",
    "acc = accuracy_score(y_test_dt, rfc_pred)\n",
    "print(\" Accuracy is :\", acc)\n",
    "print(confusion_matrix(y_test_dt,rfc_pred))\n",
    "print(classification_report(y_test_dt,rfc_pred))\n",
    "# Find best Parametr for RF\n",
    "error_rate=[]\n",
    "for i in range(1,100):\n",
    "        iteration_error=[]\n",
    "        #calculate mean of error rate for each senario\n",
    "        for j in range(20):\n",
    "            rfc = RandomForestClassifier(n_estimators=i)\n",
    "            rfc.fit(X_train_dt,y_train_dt)\n",
    "            pred_i = rfc.predict(X_test_dt)\n",
    "            iteration_error.append(np.mean(pred_i != y_test))\n",
    "        error_rate.append(np.mean(iteration_error))\n",
    "plt.figure(figsize=(14,6))\n",
    "plt.plot(range(1,100),error_rate,color='blue', linestyle='dashed', marker='o',markerfacecolor='red', markersize=10)\n",
    "plt.title('Error Rate vs. n_estimators Value')\n",
    "plt.xlabel('n_estimators')\n",
    "plt.ylabel('Error Rate')\n",
    "# from the plot it is obvious that n_estimators=2 has the lowest mean error rate \n",
    "# fit with best n_estimators parameter\n",
    "\n",
    "print('WITH n_estimators=',2 )\n",
    "rfc = RandomForestClassifier(n_estimators=1)\n",
    "rfc.fit(X_train_dt, y_train_dt)\n",
    "rfc_pred = rfc.predict(X_test)\n",
    "acc = accuracy_score(y_test_dt, rfc_pred)\n",
    "print(\" Accuracy is :\", acc)\n",
    "print(confusion_matrix(y_test_dt,rfc_pred))\n",
    "print(classification_report(y_test_dt,rfc_pred))"
   ]
  },
  {
   "cell_type": "markdown",
   "metadata": {},
   "source": [
    "**KNN Classifier**"
   ]
  },
  {
   "cell_type": "code",
   "execution_count": 323,
   "metadata": {},
   "outputs": [
    {
     "name": "stdout",
     "output_type": "stream",
     "text": [
      "when n_neighbors parameter is: 1 (its just some random number)\n",
      " Accuracy is : 0.7582417582417582\n",
      "[[30 12]\n",
      " [10 39]]\n",
      "              precision    recall  f1-score   support\n",
      "\n",
      "           0       0.75      0.71      0.73        42\n",
      "           1       0.76      0.80      0.78        49\n",
      "\n",
      "    accuracy                           0.76        91\n",
      "   macro avg       0.76      0.76      0.76        91\n",
      "weighted avg       0.76      0.76      0.76        91\n",
      "\n",
      "WITH n_neighbors= 19\n",
      " Accuracy is : 0.8461538461538461\n",
      "[[31 11]\n",
      " [ 3 46]]\n",
      "              precision    recall  f1-score   support\n",
      "\n",
      "           0       0.91      0.74      0.82        42\n",
      "           1       0.81      0.94      0.87        49\n",
      "\n",
      "    accuracy                           0.85        91\n",
      "   macro avg       0.86      0.84      0.84        91\n",
      "weighted avg       0.86      0.85      0.84        91\n",
      "\n"
     ]
    },
    {
     "data": {
      "image/png": "[encoded data removed]",
      "text/plain": [
       "<Figure size 720x432 with 1 Axes>"
      ]
     },
     "metadata": {
      "needs_background": "light"
     },
     "output_type": "display_data"
    }
   ],
   "source": [
    "knn = KNeighborsClassifier(n_neighbors=1)\n",
    "knn.fit(X_train_dt,y_train_dt)\n",
    "pred = knn.predict(X_test_dt)\n",
    "print( \"when n_neighbors parameter is: 1 (its just some random number)\")\n",
    "acc = accuracy_score(y_test_dt, pred)\n",
    "print(\" Accuracy is :\", acc)\n",
    "print(confusion_matrix(y_test_dt,pred))\n",
    "print(classification_report(y_test_dt,pred))\n",
    "error_rate = []\n",
    "# plot erros for different parameter values to get an overall insight\n",
    "for i in range(1,40):\n",
    "\n",
    "        knn = KNeighborsClassifier(n_neighbors=i)\n",
    "        knn.fit(X_train_dt,y_train_dt)\n",
    "        pred_i = knn.predict(X_test_dt)\n",
    "        error_rate.append(np.mean(pred_i != y_test))\n",
    "plt.figure(figsize=(10,6))\n",
    "plt.plot(range(1,40),error_rate,color='blue', linestyle='dashed', marker='o',markerfacecolor='red', markersize=10)\n",
    "plt.title('Error Rate vs. K Value')\n",
    "plt.xlabel('K')\n",
    "plt.ylabel('Error Rate')\n",
    "# find best parameter K\n",
    "\n",
    "print('WITH n_neighbors=', 19 )\n",
    "knn = KNeighborsClassifier(n_neighbors=19)\n",
    "knn.fit(X_train_dt,y_train_dt)\n",
    "pred = knn.predict(X_test_dt)\n",
    "acc = accuracy_score(y_test_dt, pred)\n",
    "print(\" Accuracy is :\", acc)\n",
    "print(confusion_matrix(y_test_dt,pred))\n",
    "print(classification_report(y_test_dt,pred))"
   ]
  },
  {
   "cell_type": "markdown",
   "metadata": {},
   "source": [
    "**Support Vector Machin Classifier**\n"
   ]
  },
  {
   "cell_type": "code",
   "execution_count": 322,
   "metadata": {},
   "outputs": [
    {
     "name": "stderr",
     "output_type": "stream",
     "text": [
      "C:\\Users\\mtahe\\Anaconda3\\lib\\site-packages\\sklearn\\svm\\base.py:193: FutureWarning: The default value of gamma will change from 'auto' to 'scale' in version 0.22 to account better for unscaled features. Set gamma explicitly to 'auto' or 'scale' to avoid this warning.\n",
      "  \"avoid this warning.\", FutureWarning)\n",
      "C:\\Users\\mtahe\\Anaconda3\\lib\\site-packages\\sklearn\\model_selection\\_split.py:1978: FutureWarning: The default value of cv will change from 3 to 5 in version 0.22. Specify it explicitly to silence this warning.\n",
      "  warnings.warn(CV_WARNING, FutureWarning)\n"
     ]
    },
    {
     "name": "stdout",
     "output_type": "stream",
     "text": [
      "With diffault parameters: \n",
      "\n",
      " Accuracy is : 0.8461538461538461\n",
      "[[30 12]\n",
      " [ 2 47]]\n",
      "              precision    recall  f1-score   support\n",
      "\n",
      "           0       0.94      0.71      0.81        42\n",
      "           1       0.80      0.96      0.87        49\n",
      "\n",
      "    accuracy                           0.85        91\n",
      "   macro avg       0.87      0.84      0.84        91\n",
      "weighted avg       0.86      0.85      0.84        91\n",
      "\n",
      "best parameter set is: {'C': 1000, 'gamma': 0.002, 'kernel': 'rbf'}\n",
      "with best parameter set used for SVM: \n",
      " Accuracy is : 0.8681318681318682\n",
      "[[33  9]\n",
      " [ 3 46]]\n",
      "              precision    recall  f1-score   support\n",
      "\n",
      "           0       0.92      0.79      0.85        42\n",
      "           1       0.84      0.94      0.88        49\n",
      "\n",
      "    accuracy                           0.87        91\n",
      "   macro avg       0.88      0.86      0.87        91\n",
      "weighted avg       0.87      0.87      0.87        91\n",
      "\n"
     ]
    },
    {
     "name": "stderr",
     "output_type": "stream",
     "text": [
      "C:\\Users\\mtahe\\Anaconda3\\lib\\site-packages\\sklearn\\model_selection\\_search.py:813: DeprecationWarning: The default of the `iid` parameter will change from True to False in version 0.22 and will be removed in 0.24. This will change numeric results when test-set sizes are unequal.\n",
      "  DeprecationWarning)\n"
     ]
    }
   ],
   "source": [
    "svc = SVC()\n",
    "svc.fit(X_train_dt, y_train_dt)\n",
    "svc_pred = svc.predict(X_test_dt)\n",
    "acc = accuracy_score(y_test_dt, svc_pred)\n",
    "print('With diffault parameters: \\n')\n",
    "print(\" Accuracy is :\", acc)\n",
    "print(confusion_matrix(y_test_dt,svc_pred))\n",
    "print(classification_report(y_test_dt,svc_pred))\n",
    "# Find best Parameter set\n",
    "svm_param = {\"C\": [10, 50, 100, 200, 300, 400, 500,1000],\n",
    "             \"kernel\" :['linear', 'poly', 'rbf', 'sigmoid'],\n",
    "              \"gamma\": [0.001,0.002,0.01,0.05,0.1,0.11,0.15,0.2]}\n",
    "grid_svm = GridSearchCV(estimator=svc , param_grid = svm_param )\n",
    "grid_svm.fit(X_train_dt , y_train_dt)\n",
    "print('best parameter set is:',grid_svm.best_params_)\n",
    "best_C= grid_svm.best_params_[\"C\"]\n",
    "best_kernel= grid_svm.best_params_['kernel']\n",
    "best_gamma= grid_svm.best_params_['gamma']\n",
    "# fit best parameter set\n",
    "svc = SVC(C=best_C, kernel=best_kernel, gamma=best_gamma)\n",
    "svc.fit(X_train_dt, y_train_dt)\n",
    "svc_pred = svc.predict(X_test_dt)\n",
    "print('with best parameter set used for SVM: ')\n",
    "acc = accuracy_score(y_test_dt, svc_pred)\n",
    "print(\" Accuracy is :\", acc)\n",
    "print(confusion_matrix(y_test_dt,svc_pred))\n",
    "print(classification_report(y_test_dt,svc_pred))\n",
    "\n"
   ]
  },
  {
   "cell_type": "markdown",
   "metadata": {},
   "source": [
    "**Bagging Classifier**"
   ]
  },
  {
   "cell_type": "code",
   "execution_count": 324,
   "metadata": {},
   "outputs": [
    {
     "name": "stderr",
     "output_type": "stream",
     "text": [
      "C:\\Users\\mtahe\\Anaconda3\\lib\\site-packages\\sklearn\\ensemble\\bagging.py:611: UserWarning: Some inputs do not have OOB scores. This probably means too few estimators were used to compute any reliable oob estimates.\n",
      "  warn(\"Some inputs do not have OOB scores. \"\n",
      "C:\\Users\\mtahe\\Anaconda3\\lib\\site-packages\\sklearn\\ensemble\\bagging.py:616: RuntimeWarning: invalid value encountered in true_divide\n",
      "  predictions.sum(axis=1)[:, np.newaxis])\n"
     ]
    },
    {
     "name": "stdout",
     "output_type": "stream",
     "text": [
      "with n_estimators=1 (some random parameter value): \n",
      " Accuracy is : 0.7802197802197802\n",
      "[[34  8]\n",
      " [12 37]]\n",
      "              precision    recall  f1-score   support\n",
      "\n",
      "           0       0.74      0.81      0.77        42\n",
      "           1       0.82      0.76      0.79        49\n",
      "\n",
      "    accuracy                           0.78        91\n",
      "   macro avg       0.78      0.78      0.78        91\n",
      "weighted avg       0.78      0.78      0.78        91\n",
      "\n"
     ]
    },
    {
     "name": "stderr",
     "output_type": "stream",
     "text": [
      "C:\\Users\\mtahe\\Anaconda3\\lib\\site-packages\\sklearn\\ensemble\\bagging.py:611: UserWarning: Some inputs do not have OOB scores. This probably means too few estimators were used to compute any reliable oob estimates.\n",
      "  warn(\"Some inputs do not have OOB scores. \"\n",
      "C:\\Users\\mtahe\\Anaconda3\\lib\\site-packages\\sklearn\\ensemble\\bagging.py:616: RuntimeWarning: invalid value encountered in true_divide\n",
      "  predictions.sum(axis=1)[:, np.newaxis])\n"
     ]
    },
    {
     "name": "stdout",
     "output_type": "stream",
     "text": [
      "with best n_estimators: 5\n",
      " Accuracy is : 0.8241758241758241\n",
      "[[34  8]\n",
      " [ 8 41]]\n",
      "              precision    recall  f1-score   support\n",
      "\n",
      "           0       0.81      0.81      0.81        42\n",
      "           1       0.84      0.84      0.84        49\n",
      "\n",
      "    accuracy                           0.82        91\n",
      "   macro avg       0.82      0.82      0.82        91\n",
      "weighted avg       0.82      0.82      0.82        91\n",
      "\n"
     ]
    },
    {
     "data": {
      "image/png": "[encoded data removed]",
      "text/plain": [
       "<Figure size 1008x432 with 1 Axes>"
      ]
     },
     "metadata": {
      "needs_background": "light"
     },
     "output_type": "display_data"
    }
   ],
   "source": [
    "bag=BaggingClassifier(n_estimators=1,oob_score=True)\n",
    "bag.fit(X_train_dt, y_train_dt)\n",
    "bag_pred = bag.predict(X_test_dt)\n",
    "acc = accuracy_score(y_test_dt, bag_pred)\n",
    "print('with n_estimators=1 (some random parameter value): ')\n",
    "print(\" Accuracy is :\", acc)\n",
    "print(confusion_matrix(y_test_dt,bag_pred))\n",
    "print(classification_report(y_test_dt,bag_pred))\n",
    "# Find best Parameter set\n",
    "error_rate=[]\n",
    "for i in range(1,100):\n",
    "        iteration_error=[]\n",
    "        #calculate mean of error rate for each senario\n",
    "        for j in range(20):\n",
    "            bag = BaggingClassifier(n_estimators=i)\n",
    "            bag.fit(X_train_dt,y_train_dt)\n",
    "            pred_i = bag.predict(X_test_dt)\n",
    "            iteration_error.append(np.mean(pred_i != y_test))\n",
    "        error_rate.append(np.mean(iteration_error))\n",
    "plt.figure(figsize=(14,6))\n",
    "plt.plot(range(1,100),error_rate,color='blue', linestyle='dashed', marker='o',markerfacecolor='red', markersize=10)\n",
    "plt.title('Error Rate vs. n_estimators Value')\n",
    "plt.xlabel('n_estimators')\n",
    "plt.ylabel('Error Rate')\n",
    "# from the plot it is obvious that n_estimators=2 has the lowest mean error rate \n",
    "# fit with best n_estimators parameter=2\n",
    "\n",
    "bag=BaggingClassifier(n_estimators=2,oob_score=True)\n",
    "bag.fit(X_train_dt, y_train_dt)\n",
    "bag_pred = bag.predict(X_test_dt)\n",
    "acc = accuracy_score(y_test_dt, bag_pred)\n",
    "print('with best n_estimators: 2')\n",
    "print(\" Accuracy is :\", acc)\n",
    "print(confusion_matrix(y_test_dt,bag_pred))\n",
    "print(classification_report(y_test_dt,bag_pred))"
   ]
  },
  {
   "cell_type": "markdown",
   "metadata": {},
   "source": [
    "**Boosting Classifier**"
   ]
  },
  {
   "cell_type": "code",
   "execution_count": 325,
   "metadata": {},
   "outputs": [
    {
     "name": "stdout",
     "output_type": "stream",
     "text": [
      "with some random n_estimators like 100 for example:\n",
      " Accuracy is : 0.7362637362637363\n",
      "[[30 12]\n",
      " [12 37]]\n",
      "              precision    recall  f1-score   support\n",
      "\n",
      "           0       0.71      0.71      0.71        42\n",
      "           1       0.76      0.76      0.76        49\n",
      "\n",
      "    accuracy                           0.74        91\n",
      "   macro avg       0.73      0.73      0.73        91\n",
      "weighted avg       0.74      0.74      0.74        91\n",
      "\n",
      "with best n_estimators: 5\n",
      " Accuracy is : 0.8571428571428571\n",
      "[[32 10]\n",
      " [ 3 46]]\n",
      "              precision    recall  f1-score   support\n",
      "\n",
      "           0       0.91      0.76      0.83        42\n",
      "           1       0.82      0.94      0.88        49\n",
      "\n",
      "    accuracy                           0.86        91\n",
      "   macro avg       0.87      0.85      0.85        91\n",
      "weighted avg       0.86      0.86      0.86        91\n",
      "\n"
     ]
    },
    {
     "data": {
      "image/png": "[encoded data removed]",
      "text/plain": [
       "<Figure size 1008x432 with 1 Axes>"
      ]
     },
     "metadata": {
      "needs_background": "light"
     },
     "output_type": "display_data"
    }
   ],
   "source": [
    "boost=AdaBoostClassifier(n_estimators=100)\n",
    "boost.fit(X_train_dt, y_train_dt)\n",
    "boost_pred = boost.predict(X_test_dt)\n",
    "acc = accuracy_score(y_test_dt, boost_pred)\n",
    "print('with some random n_estimators like 100 for example:')\n",
    "print(\" Accuracy is :\", acc)\n",
    "print(confusion_matrix(y_test_dt,boost_pred))\n",
    "print(classification_report(y_test_dt,boost_pred))\n",
    "# Find best Parameter set\n",
    "error_rate=[]\n",
    "for i in range(1,100):\n",
    "        iteration_error=[]\n",
    "        for j in range(20):\n",
    "            bag = AdaBoostClassifier(n_estimators=i)\n",
    "            bag.fit(X_train_dt,y_train_dt)\n",
    "            pred_i = bag.predict(X_test_dt)\n",
    "            iteration_error.append(np.mean(pred_i != y_test))\n",
    "        error_rate.append(np.mean(iteration_error))\n",
    "plt.figure(figsize=(14,6))\n",
    "plt.plot(range(1,100),error_rate,color='blue', linestyle='dashed', marker='o',markerfacecolor='red', markersize=10)\n",
    "plt.title('Error Rate vs. n_estimators Value')\n",
    "plt.xlabel('n_estimators')\n",
    "plt.ylabel('Error Rate')\n",
    "# from the plot it is obvious that n_estimators=6\n",
    "# fit with best n_estimators parameter\n",
    "\n",
    "boost=AdaBoostClassifier(n_estimators=6)\n",
    "boost.fit(X_train_dt, y_train_dt)\n",
    "boost_pred = boost.predict(X_test_dt)\n",
    "acc = accuracy_score(y_test_dt, boost_pred)\n",
    "print('with best n_estimators: 6')\n",
    "print(\" Accuracy is :\", acc)\n",
    "print(confusion_matrix(y_test_dt,boost_pred))\n",
    "print(classification_report(y_test_dt,boost_pred))"
   ]
  },
  {
   "cell_type": "markdown",
   "metadata": {},
   "source": [
    "**feature selection with classifiers builtin methods**"
   ]
  },
  {
   "cell_type": "code",
   "execution_count": 326,
   "metadata": {},
   "outputs": [
    {
     "name": "stdout",
     "output_type": "stream",
     "text": [
      "with RandomForest Builtin feature importance calculator\n",
      "[0.16367299 0.03912883 0.18923369 0.05116094 0.08345503 0.\n",
      " 0.02041504 0.09392577 0.04578129 0.11642071 0.03087134 0.04625945\n",
      " 0.11967491]\n",
      "top five importancest features are sorted below: \n",
      "      Specs     Score\n",
      "2        cp  0.189234\n",
      "0       age  0.163673\n",
      "12     thal  0.119675\n",
      "9   oldpeak  0.116421\n",
      "7   thalach  0.093926\n",
      "------------------------------------------------------------\n",
      "with DecisionTree Builtin feature importance calculator\n",
      "[0.         0.         0.40056235 0.         0.         0.\n",
      " 0.06423962 0.0611072  0.09321295 0.11286807 0.04996175 0.21804805\n",
      " 0.        ]\n",
      "top five importancest features are sorted below: \n",
      "      Specs     Score\n",
      "2        cp  0.400562\n",
      "11       ca  0.218048\n",
      "9   oldpeak  0.112868\n",
      "8     exang  0.093213\n",
      "6   restecg  0.064240\n",
      "------------------------------------------------------------\n",
      "with Boosting Builtin feature importance calculator\n",
      "[0.  0.  0.2 0.  0.2 0.  0.  0.  0.  0.2 0.  0.2 0.2]\n",
      "top five importancest features are sorted below: \n",
      "      Specs  Score\n",
      "2        cp    0.2\n",
      "4      chol    0.2\n",
      "9   oldpeak    0.2\n",
      "11       ca    0.2\n",
      "12     thal    0.2\n"
     ]
    }
   ],
   "source": [
    "# feature selection with random forest builtin function for feature importances\n",
    "print('with RandomForest Builtin feature importance calculator')\n",
    "print(rfc.feature_importances_)\n",
    "X=data_co.drop('target',axis=1)\n",
    "y=data_co['target']\n",
    "dfscores = pd.DataFrame(rfc.feature_importances_)\n",
    "dfcolumns = pd.DataFrame(X.columns)\n",
    "#concat two dataframes for better visualization \n",
    "featureScores = pd.concat([dfcolumns,dfscores],axis=1)\n",
    "featureScores.columns = ['Specs','Score']  #naming the dataframe columns\n",
    "print('top five importancest features are sorted below: ')\n",
    "print(featureScores.nlargest(5,'Score'))  #print 5 best features\n",
    "\n",
    "print(\"------------------------------------------------------------\")\n",
    "# feature selection with Decision Tree builtin function for feature importances\n",
    "print('with DecisionTree Builtin feature importance calculator')\n",
    "print(DT.feature_importances_)\n",
    "dfscores = pd.DataFrame(DT.feature_importances_)\n",
    "dfcolumns = pd.DataFrame(X.columns)\n",
    "#concat two dataframes for better visualization \n",
    "featureScores = pd.concat([dfcolumns,dfscores],axis=1)\n",
    "featureScores.columns = ['Specs','Score']  #naming the dataframe columns\n",
    "print('top five importancest features are sorted below: ')\n",
    "print(featureScores.nlargest(5,'Score'))  #print 5 best features\n",
    "print(\"------------------------------------------------------------\")\n",
    "# feature selection with boosting builtin function for feature importances\n",
    "print('with Boosting Builtin feature importance calculator')\n",
    "print(boost.feature_importances_)\n",
    "dfscores = pd.DataFrame(boost.feature_importances_)\n",
    "dfcolumns = pd.DataFrame(X.columns)\n",
    "#concat two dataframes for better visualization \n",
    "featureScores = pd.concat([dfcolumns,dfscores],axis=1)\n",
    "featureScores.columns = ['Specs','Score']  #naming the dataframe columns\n",
    "print('top five importancest features are sorted below: ')\n",
    "print(featureScores.nlargest(5,'Score'))  #print 5 best features\n"
   ]
  },
  {
   "cell_type": "markdown",
   "metadata": {},
   "source": [
    "**Feature Selection with LogisticRegression and RFE**"
   ]
  },
  {
   "cell_type": "code",
   "execution_count": 327,
   "metadata": {},
   "outputs": [
    {
     "name": "stdout",
     "output_type": "stream",
     "text": [
      "Num Features: 5\n",
      "Selected Features: [False  True False  True False False False  True  True  True False False\n",
      " False]\n",
      "Feature Ranking: [7 1 3 1 6 9 8 1 1 1 4 5 2]\n",
      "---------------------------------------------------------------------------\n",
      "So the top 5 best features are :\n",
      "Index(['sex', 'trestbps', 'thalach', 'exang', 'oldpeak'], dtype='object')\n"
     ]
    }
   ],
   "source": [
    "model = LogisticRegression(solver='lbfgs')\n",
    "rfe = RFE(model, 5)\n",
    "X=data_co.drop('target',axis=1)\n",
    "y=data_co['target']\n",
    "fit = rfe.fit(X,y)\n",
    "print(\"Num Features: %d\" % fit.n_features_)\n",
    "print(\"Selected Features: %s\" % fit.support_)\n",
    "print(\"Feature Ranking: %s\" % fit.ranking_)\n",
    "print('---------------------------------------------------------------------------')\n",
    "print(\"So the top 5 best features are :\")\n",
    "print(X.columns[fit.support_])"
   ]
  },
  {
   "cell_type": "markdown",
   "metadata": {},
   "source": [
    "**Feature Selection with Univariate Selection**"
   ]
  },
  {
   "cell_type": "code",
   "execution_count": 328,
   "metadata": {},
   "outputs": [
    {
     "name": "stdout",
     "output_type": "stream",
     "text": [
      "top 5 best features :\n",
      "\n",
      "      Specs      Score\n",
      "11       ca  63.757660\n",
      "2        cp  60.709113\n",
      "8     exang  38.914377\n",
      "9   oldpeak  11.307668\n",
      "10    slope   9.051501\n"
     ]
    }
   ],
   "source": [
    "#apply SelectKBest class to extract top 5 best features\n",
    "bestfeatures = SelectKBest(score_func=chi2, k=5)\n",
    "X=data_co.drop('target',axis=1)\n",
    "y=data_co['target']\n",
    "fit = bestfeatures.fit(X,y)\n",
    "dfscores = pd.DataFrame(fit.scores_)\n",
    "dfcolumns = pd.DataFrame(X.columns)\n",
    "#concat two dataframes for better visualization \n",
    "featureScores = pd.concat([dfcolumns,dfscores],axis=1)\n",
    "featureScores.columns = ['Specs','Score']  #naming the dataframe columns\n",
    "print('top 5 best features :\\n')\n",
    "print(featureScores.nlargest(5,'Score'))  #print 5 best features"
   ]
  },
  {
   "cell_type": "markdown",
   "metadata": {},
   "source": [
    "**KMeans Clustering**"
   ]
  },
  {
   "cell_type": "code",
   "execution_count": 334,
   "metadata": {},
   "outputs": [
    {
     "name": "stdout",
     "output_type": "stream",
     "text": [
      "kmeans labels:\n",
      "[1 1 1 1 0 0 1 1 1 1 0 1 1 1 1 1 1 1 0 1 0 1 0 1 1 0 1 1 1 1 1 0 1 1 1 1 1\n",
      " 1 1 1 1 1 0 0 1 1 1 1 1 0 1 0 1 1 1 1 0 0 1 0 1 1 1 1 1 0 1 1 1 0 1 1 1 0\n",
      " 1 1 1 1 1 1 1 1 1 1 0 1 1 1 0 0 1 0 1 0 1 0 0 0 1 1 1 1 0 1 1 1 1 0 1 0 0\n",
      " 1 1 0 1 1 1 1 1 0 0 0 1 1 1 1 0 1 1 0 1 0 1 1 1 0 1 1 0 0 1 0 1 0 1 1 1 1\n",
      " 1 1 0 0 1 1 1 0 1 1 0 1 1 1 1 1 1 0 0 0 0 0 1 1 1 1 0 0 0 1 0 0 0 0 0 1 0\n",
      " 0 0 0 1 0 0 0 0 0 1 0 1 0 0 0 0 0 0 1 0 0 0 0 1 0 1 0 0 0 0 0 1 0 0 0 0 0\n",
      " 1 0 0 0 0 0 1 1 1 0 0 0 0 0 0 0 0 0 1 0 0 0 0 0 0 0 1 1 0 0 0 0 1 0 0 0 0\n",
      " 1 0 0 0 0 0 0 0 1 0 0 0 1 0 0 0 0 0 1 0 0 0 0 1 0 0 0 1 1 0 0 0 0 0 1 0 0\n",
      " 0 0 0 1 0 0 1] \n",
      "\n",
      "Percent of True Labels that Kmeans assigned to each row  :  0.7458745874587459\n"
     ]
    }
   ],
   "source": [
    "kmeans = KMeans(n_clusters=2)\n",
    "kmeans.fit(data_co.drop('target',axis=1))\n",
    "print('kmeans labels:')\n",
    "print(kmeans.labels_ ,'\\n')\n",
    "acc=accuracy_score(kmeans.labels_,data_co['target'])\n",
    "print(\"Percent of True Labels that Kmeans assigned to each row  : \",acc)\n"
   ]
  },
  {
   "cell_type": "code",
   "execution_count": null,
   "metadata": {},
   "outputs": [],
   "source": []
  },
  {
   "cell_type": "code",
   "execution_count": null,
   "metadata": {},
   "outputs": [],
   "source": []
  },
  {
   "cell_type": "code",
   "execution_count": null,
   "metadata": {},
   "outputs": [],
   "source": []
  },
  {
   "cell_type": "code",
   "execution_count": null,
   "metadata": {},
   "outputs": [],
   "source": []
  },
  {
   "cell_type": "code",
   "execution_count": null,
   "metadata": {},
   "outputs": [],
   "source": []
  },
  {
   "cell_type": "code",
   "execution_count": null,
   "metadata": {},
   "outputs": [],
   "source": []
  },
  {
   "cell_type": "code",
   "execution_count": null,
   "metadata": {},
   "outputs": [],
   "source": []
  },
  {
   "cell_type": "code",
   "execution_count": null,
   "metadata": {},
   "outputs": [],
   "source": []
  },
  {
   "cell_type": "code",
   "execution_count": null,
   "metadata": {},
   "outputs": [],
   "source": []
  },
  {
   "cell_type": "code",
   "execution_count": null,
   "metadata": {},
   "outputs": [],
   "source": []
  },
  {
   "cell_type": "code",
   "execution_count": null,
   "metadata": {},
   "outputs": [],
   "source": []
  },
  {
   "cell_type": "code",
   "execution_count": null,
   "metadata": {},
   "outputs": [],
   "source": []
  },
  {
   "cell_type": "code",
   "execution_count": null,
   "metadata": {},
   "outputs": [],
   "source": []
  },
  {
   "cell_type": "code",
   "execution_count": null,
   "metadata": {},
   "outputs": [],
   "source": []
  },
  {
   "cell_type": "code",
   "execution_count": null,
   "metadata": {},
   "outputs": [],
   "source": []
  },
  {
   "cell_type": "code",
   "execution_count": null,
   "metadata": {},
   "outputs": [],
   "source": []
  },
  {
   "cell_type": "code",
   "execution_count": null,
   "metadata": {},
   "outputs": [],
   "source": []
  },
  {
   "cell_type": "code",
   "execution_count": null,
   "metadata": {},
   "outputs": [],
   "source": []
  },
  {
   "cell_type": "code",
   "execution_count": null,
   "metadata": {},
   "outputs": [],
   "source": []
  },
  {
   "cell_type": "code",
   "execution_count": null,
   "metadata": {},
   "outputs": [],
   "source": []
  },
  {
   "cell_type": "code",
   "execution_count": null,
   "metadata": {},
   "outputs": [],
   "source": []
  },
  {
   "cell_type": "code",
   "execution_count": null,
   "metadata": {},
   "outputs": [],
   "source": []
  },
  {
   "cell_type": "code",
   "execution_count": null,
   "metadata": {},
   "outputs": [],
   "source": []
  },
  {
   "cell_type": "code",
   "execution_count": null,
   "metadata": {},
   "outputs": [],
   "source": []
  },
  {
   "cell_type": "code",
   "execution_count": null,
   "metadata": {},
   "outputs": [],
   "source": []
  },
  {
   "cell_type": "code",
   "execution_count": null,
   "metadata": {},
   "outputs": [],
   "source": []
  },
  {
   "cell_type": "code",
   "execution_count": null,
   "metadata": {},
   "outputs": [],
   "source": []
  },
  {
   "cell_type": "code",
   "execution_count": null,
   "metadata": {},
   "outputs": [],
   "source": []
  },
  {
   "cell_type": "code",
   "execution_count": 54,
   "metadata": {},
   "outputs": [],
   "source": []
  },
  {
   "cell_type": "code",
   "execution_count": null,
   "metadata": {},
   "outputs": [],
   "source": []
  },
  {
   "cell_type": "code",
   "execution_count": null,
   "metadata": {},
   "outputs": [],
   "source": []
  },
  {
   "cell_type": "code",
   "execution_count": null,
   "metadata": {},
   "outputs": [],
   "source": []
  },
  {
   "cell_type": "code",
   "execution_count": null,
   "metadata": {},
   "outputs": [],
   "source": []
  },
  {
   "cell_type": "code",
   "execution_count": null,
   "metadata": {},
   "outputs": [],
   "source": []
  },
  {
   "cell_type": "code",
   "execution_count": null,
   "metadata": {},
   "outputs": [],
   "source": []
  },
  {
   "cell_type": "code",
   "execution_count": null,
   "metadata": {},
   "outputs": [],
   "source": []
  },
  {
   "cell_type": "code",
   "execution_count": null,
   "metadata": {},
   "outputs": [],
   "source": []
  },
  {
   "cell_type": "code",
   "execution_count": null,
   "metadata": {},
   "outputs": [],
   "source": []
  },
  {
   "cell_type": "code",
   "execution_count": null,
   "metadata": {},
   "outputs": [],
   "source": []
  },
  {
   "cell_type": "code",
   "execution_count": null,
   "metadata": {},
   "outputs": [],
   "source": []
  },
  {
   "cell_type": "code",
   "execution_count": null,
   "metadata": {},
   "outputs": [],
   "source": []
  },
  {
   "cell_type": "code",
   "execution_count": null,
   "metadata": {},
   "outputs": [],
   "source": []
  },
  {
   "cell_type": "code",
   "execution_count": null,
   "metadata": {},
   "outputs": [],
   "source": []
  },
  {
   "cell_type": "code",
   "execution_count": null,
   "metadata": {},
   "outputs": [],
   "source": []
  },
  {
   "cell_type": "code",
   "execution_count": null,
   "metadata": {},
   "outputs": [],
   "source": []
  },
  {
   "cell_type": "code",
   "execution_count": null,
   "metadata": {},
   "outputs": [],
   "source": []
  },
  {
   "cell_type": "code",
   "execution_count": null,
   "metadata": {},
   "outputs": [],
   "source": []
  },
  {
   "cell_type": "code",
   "execution_count": null,
   "metadata": {},
   "outputs": [],
   "source": []
  },
  {
   "cell_type": "code",
   "execution_count": null,
   "metadata": {},
   "outputs": [],
   "source": []
  },
  {
   "cell_type": "code",
   "execution_count": null,
   "metadata": {},
   "outputs": [],
   "source": []
  },
  {
   "cell_type": "code",
   "execution_count": null,
   "metadata": {},
   "outputs": [],
   "source": []
  },
  {
   "cell_type": "code",
   "execution_count": null,
   "metadata": {},
   "outputs": [],
   "source": []
  },
  {
   "cell_type": "code",
   "execution_count": null,
   "metadata": {},
   "outputs": [],
   "source": []
  }
 ],
 "metadata": {
  "kernelspec": {
   "display_name": "Python 3",
   "language": "python",
   "name": "python3"
  },
  "language_info": {
   "codemirror_mode": {
    "name": "ipython",
    "version": 3
   },
   "file_extension": ".py",
   "mimetype": "text/x-python",
   "name": "python",
   "nbconvert_exporter": "python",
   "pygments_lexer": "ipython3",
   "version": "3.7.3"
  }
 },
 "nbformat": 4,
 "nbformat_minor": 4
}
